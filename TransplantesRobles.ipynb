{
  "cells": [
    {
      "cell_type": "markdown",
      "metadata": {
        "id": "view-in-github",
        "colab_type": "text"
      },
      "source": [
        "<a href=\"https://colab.research.google.com/github/Javsk891/Crosstabulation_and_Sorting/blob/main/TransplantesRobles.ipynb\" target=\"_parent\"><img src=\"https://colab.research.google.com/assets/colab-badge.svg\" alt=\"Open In Colab\"/></a>"
      ]
    },
    {
      "cell_type": "code",
      "execution_count": null,
      "id": "195b50c9",
      "metadata": {
        "id": "195b50c9"
      },
      "outputs": [],
      "source": [
        "import pandas as pd\n",
        "import matplotlib.pyplot as plt"
      ]
    },
    {
      "cell_type": "code",
      "execution_count": null,
      "id": "3007175a",
      "metadata": {
        "id": "3007175a",
        "outputId": "123bfe97-0462-408c-efd6-04bf65d02807"
      },
      "outputs": [
        {
          "data": {
            "text/html": [
              "<div>\n",
              "<style scoped>\n",
              "    .dataframe tbody tr th:only-of-type {\n",
              "        vertical-align: middle;\n",
              "    }\n",
              "\n",
              "    .dataframe tbody tr th {\n",
              "        vertical-align: top;\n",
              "    }\n",
              "\n",
              "    .dataframe thead th {\n",
              "        text-align: right;\n",
              "    }\n",
              "</style>\n",
              "<table border=\"1\" class=\"dataframe\">\n",
              "  <thead>\n",
              "    <tr style=\"text-align: right;\">\n",
              "      <th></th>\n",
              "      <th>PERIODO</th>\n",
              "      <th>INSTITUCION</th>\n",
              "      <th>GESTION</th>\n",
              "      <th>SEXO</th>\n",
              "      <th>EDAD</th>\n",
              "      <th>CONSENTIMIENTO</th>\n",
              "      <th>CUALQUIER_ORGANO</th>\n",
              "      <th>CUALES_NO</th>\n",
              "      <th>TRASPLANTE</th>\n",
              "      <th>INVESTIGACION</th>\n",
              "      <th>BARRIO</th>\n",
              "      <th>COMUNA</th>\n",
              "      <th>ID2</th>\n",
              "    </tr>\n",
              "  </thead>\n",
              "  <tbody>\n",
              "    <tr>\n",
              "      <th>0</th>\n",
              "      <td>2012</td>\n",
              "      <td>CENTRO MEDICO INTEGRAL FITZ ROY</td>\n",
              "      <td>PRIVADA</td>\n",
              "      <td>F</td>\n",
              "      <td>40</td>\n",
              "      <td>SI</td>\n",
              "      <td>SI</td>\n",
              "      <td>NaN</td>\n",
              "      <td>SI</td>\n",
              "      <td>SI</td>\n",
              "      <td>VILLA CRESPO</td>\n",
              "      <td>15</td>\n",
              "      <td>1</td>\n",
              "    </tr>\n",
              "    <tr>\n",
              "      <th>1</th>\n",
              "      <td>2012</td>\n",
              "      <td>CLINICA BAZTERRICA</td>\n",
              "      <td>PRIVADA</td>\n",
              "      <td>M</td>\n",
              "      <td>31</td>\n",
              "      <td>SI</td>\n",
              "      <td>SI</td>\n",
              "      <td>NaN</td>\n",
              "      <td>SI</td>\n",
              "      <td>NO</td>\n",
              "      <td>RECOLETA</td>\n",
              "      <td>2</td>\n",
              "      <td>2</td>\n",
              "    </tr>\n",
              "    <tr>\n",
              "      <th>2</th>\n",
              "      <td>2012</td>\n",
              "      <td>CLINICA BAZTERRICA</td>\n",
              "      <td>PRIVADA</td>\n",
              "      <td>F</td>\n",
              "      <td>41</td>\n",
              "      <td>SI</td>\n",
              "      <td>SI</td>\n",
              "      <td>NaN</td>\n",
              "      <td>SI</td>\n",
              "      <td>SI</td>\n",
              "      <td>RECOLETA</td>\n",
              "      <td>2</td>\n",
              "      <td>3</td>\n",
              "    </tr>\n",
              "    <tr>\n",
              "      <th>3</th>\n",
              "      <td>2012</td>\n",
              "      <td>CLINICA DE LOS VIRREYES</td>\n",
              "      <td>PRIVADA</td>\n",
              "      <td>M</td>\n",
              "      <td>29</td>\n",
              "      <td>SI</td>\n",
              "      <td>SI</td>\n",
              "      <td>NaN</td>\n",
              "      <td>SI</td>\n",
              "      <td>NO</td>\n",
              "      <td>COLEGIALES</td>\n",
              "      <td>13</td>\n",
              "      <td>4</td>\n",
              "    </tr>\n",
              "    <tr>\n",
              "      <th>4</th>\n",
              "      <td>2012</td>\n",
              "      <td>CLINICA DE LOS VIRREYES</td>\n",
              "      <td>PRIVADA</td>\n",
              "      <td>F</td>\n",
              "      <td>26</td>\n",
              "      <td>SI</td>\n",
              "      <td>SI</td>\n",
              "      <td>NaN</td>\n",
              "      <td>SI</td>\n",
              "      <td>NO</td>\n",
              "      <td>COLEGIALES</td>\n",
              "      <td>13</td>\n",
              "      <td>5</td>\n",
              "    </tr>\n",
              "  </tbody>\n",
              "</table>\n",
              "</div>"
            ],
            "text/plain": [
              "   PERIODO                      INSTITUCION  GESTION SEXO  EDAD  \\\n",
              "0     2012  CENTRO MEDICO INTEGRAL FITZ ROY  PRIVADA    F    40   \n",
              "1     2012               CLINICA BAZTERRICA  PRIVADA    M    31   \n",
              "2     2012               CLINICA BAZTERRICA  PRIVADA    F    41   \n",
              "3     2012          CLINICA DE LOS VIRREYES  PRIVADA    M    29   \n",
              "4     2012          CLINICA DE LOS VIRREYES  PRIVADA    F    26   \n",
              "\n",
              "  CONSENTIMIENTO CUALQUIER_ORGANO CUALES_NO TRASPLANTE INVESTIGACION  \\\n",
              "0             SI               SI       NaN         SI            SI   \n",
              "1             SI               SI       NaN         SI            NO   \n",
              "2             SI               SI       NaN         SI            SI   \n",
              "3             SI               SI       NaN         SI            NO   \n",
              "4             SI               SI       NaN         SI            NO   \n",
              "\n",
              "         BARRIO  COMUNA  ID2  \n",
              "0  VILLA CRESPO      15    1  \n",
              "1      RECOLETA       2    2  \n",
              "2      RECOLETA       2    3  \n",
              "3    COLEGIALES      13    4  \n",
              "4    COLEGIALES      13    5  "
            ]
          },
          "execution_count": 4,
          "metadata": {},
          "output_type": "execute_result"
        }
      ],
      "source": [
        "df = pd.read_excel('Transplantes.xlsx')\n",
        "df.head()"
      ]
    },
    {
      "cell_type": "code",
      "execution_count": null,
      "id": "e0e0d91d",
      "metadata": {
        "id": "e0e0d91d",
        "outputId": "94bdd7a4-4c8f-4b50-9986-374d7f5a4dce"
      },
      "outputs": [
        {
          "data": {
            "text/plain": [
              "(791, 13)"
            ]
          },
          "execution_count": 5,
          "metadata": {},
          "output_type": "execute_result"
        }
      ],
      "source": [
        "df.shape"
      ]
    },
    {
      "cell_type": "code",
      "execution_count": null,
      "id": "5f675eec",
      "metadata": {
        "id": "5f675eec",
        "outputId": "b16f71d8-b5de-47ae-d2b2-4cb8ba89aa81"
      },
      "outputs": [
        {
          "data": {
            "text/plain": [
              "PERIODO             791\n",
              "INSTITUCION         791\n",
              "GESTION             791\n",
              "SEXO                791\n",
              "EDAD                791\n",
              "CONSENTIMIENTO      791\n",
              "CUALQUIER_ORGANO    791\n",
              "CUALES_NO            17\n",
              "TRASPLANTE          791\n",
              "INVESTIGACION       791\n",
              "BARRIO              791\n",
              "COMUNA              791\n",
              "ID2                 791\n",
              "dtype: int64"
            ]
          },
          "execution_count": 7,
          "metadata": {},
          "output_type": "execute_result"
        }
      ],
      "source": [
        "df.count()"
      ]
    },
    {
      "cell_type": "code",
      "execution_count": null,
      "id": "4dd17446",
      "metadata": {
        "id": "4dd17446",
        "outputId": "6665d7be-2404-470e-fa9d-fc416cd7d235"
      },
      "outputs": [
        {
          "data": {
            "text/plain": [
              "PERIODO              int64\n",
              "INSTITUCION         object\n",
              "GESTION             object\n",
              "SEXO                object\n",
              "EDAD                 int64\n",
              "CONSENTIMIENTO      object\n",
              "CUALQUIER_ORGANO    object\n",
              "CUALES_NO           object\n",
              "TRASPLANTE          object\n",
              "INVESTIGACION       object\n",
              "BARRIO              object\n",
              "COMUNA               int64\n",
              "ID2                  int64\n",
              "dtype: object"
            ]
          },
          "execution_count": 8,
          "metadata": {},
          "output_type": "execute_result"
        }
      ],
      "source": [
        "df.dtypes"
      ]
    },
    {
      "cell_type": "code",
      "execution_count": null,
      "id": "e4a93baa",
      "metadata": {
        "id": "e4a93baa",
        "outputId": "8e8f008c-3325-4957-f7dc-407c5aa86d9c"
      },
      "outputs": [
        {
          "data": {
            "text/plain": [
              "pandas.core.frame.DataFrame"
            ]
          },
          "execution_count": 9,
          "metadata": {},
          "output_type": "execute_result"
        }
      ],
      "source": [
        "type(df)"
      ]
    },
    {
      "cell_type": "code",
      "execution_count": null,
      "id": "0a47bbee",
      "metadata": {
        "id": "0a47bbee",
        "outputId": "cce6ac7b-083c-4f40-df5e-806547e16c02"
      },
      "outputs": [
        {
          "name": "stdout",
          "output_type": "stream",
          "text": [
            "Index(['PERIODO', 'INSTITUCION', 'GESTION', 'SEXO', 'EDAD', 'CONSENTIMIENTO',\n",
            "       'CUALQUIER_ORGANO', 'CUALES_NO', 'TRASPLANTE', 'INVESTIGACION',\n",
            "       'BARRIO', 'COMUNA', 'ID2'],\n",
            "      dtype='object')\n"
          ]
        }
      ],
      "source": [
        "print(df.columns)"
      ]
    },
    {
      "cell_type": "code",
      "execution_count": null,
      "id": "2e05bd4c",
      "metadata": {
        "id": "2e05bd4c",
        "outputId": "31603a53-8f19-4f4e-e75d-c73ce70bca7b"
      },
      "outputs": [
        {
          "data": {
            "text/plain": [
              "<AxesSubplot:>"
            ]
          },
          "execution_count": 14,
          "metadata": {},
          "output_type": "execute_result"
        },
        {
          "data": {
            "image/png": "[encoded data removed]",
            "text/plain": [
              "<Figure size 432x288 with 1 Axes>"
            ]
          },
          "metadata": {
            "needs_background": "light"
          },
          "output_type": "display_data"
        }
      ],
      "source": [
        "df['CUALES_NO'].value_counts().plot.bar()"
      ]
    },
    {
      "cell_type": "code",
      "execution_count": null,
      "id": "3893d345",
      "metadata": {
        "id": "3893d345",
        "outputId": "6909ef07-55a2-4bf7-eaf4-54b0ff17fef4"
      },
      "outputs": [
        {
          "data": {
            "text/plain": [
              "<AxesSubplot:>"
            ]
          },
          "execution_count": 13,
          "metadata": {},
          "output_type": "execute_result"
        },
        {
          "data": {
            "image/png": "[encoded data removed]",
            "text/plain": [
              "<Figure size 432x288 with 1 Axes>"
            ]
          },
          "metadata": {
            "needs_background": "light"
          },
          "output_type": "display_data"
        }
      ],
      "source": [
        "df['EDAD'].value_counts().sort_index().plot.line()"
      ]
    },
    {
      "cell_type": "code",
      "execution_count": null,
      "id": "b26f03b7",
      "metadata": {
        "id": "b26f03b7",
        "outputId": "5ca36200-26b2-4278-b787-d2c3ccdb012a"
      },
      "outputs": [
        {
          "data": {
            "text/plain": [
              "<AxesSubplot:ylabel='Frequency'>"
            ]
          },
          "execution_count": 15,
          "metadata": {},
          "output_type": "execute_result"
        },
        {
          "data": {
            "image/png": "[encoded data removed]",
            "text/plain": [
              "<Figure size 432x288 with 1 Axes>"
            ]
          },
          "metadata": {
            "needs_background": "light"
          },
          "output_type": "display_data"
        }
      ],
      "source": [
        "df['PERIODO'].plot.hist()"
      ]
    },
    {
      "cell_type": "code",
      "execution_count": null,
      "id": "4d39c02b",
      "metadata": {
        "id": "4d39c02b",
        "outputId": "7837636c-b52f-4983-80c2-3b20c76b882f"
      },
      "outputs": [
        {
          "data": {
            "text/plain": [
              "HOSPITAL ITALIANO DE BUENOS AIRES                      100\n",
              "HOSPITAL FRANCISCO SANTOJANNI                           57\n",
              "HOSPITAL GENERAL DE AGUDOS DR. JUAN A FERNANDEZ         53\n",
              "HOSPITAL GENERAL DE AGUDOS DR. COSME ARGERICH           42\n",
              "HOSPITAL BRITANICO DE BUENOS AIRES                      41\n",
              "                                                      ... \n",
              "INSTITUTO CARDIOVASCULAR DE BUENOS AIRES                 1\n",
              "INSTITUTO DE INVESTIGACIONES MEDICAS ALFREDO LANARI      1\n",
              "CLIMEDICA                                                1\n",
              "HOSPITAL GENERAL DE AGUDOS DR. ABEL ZUBIZARRETA          1\n",
              "FUNDACION HOSPITALARIA                                   1\n",
              "Name: INSTITUCION, Length: 75, dtype: int64"
            ]
          },
          "execution_count": 16,
          "metadata": {},
          "output_type": "execute_result"
        }
      ],
      "source": [
        "frec = df['INSTITUCION'].value_counts()\n",
        "frec"
      ]
    },
    {
      "cell_type": "code",
      "execution_count": null,
      "id": "3a5bcdda",
      "metadata": {
        "id": "3a5bcdda",
        "outputId": "8c57adcd-aaf9-4f20-cf87-64c589dccc34"
      },
      "outputs": [
        {
          "data": {
            "text/html": [
              "<div>\n",
              "<style scoped>\n",
              "    .dataframe tbody tr th:only-of-type {\n",
              "        vertical-align: middle;\n",
              "    }\n",
              "\n",
              "    .dataframe tbody tr th {\n",
              "        vertical-align: top;\n",
              "    }\n",
              "\n",
              "    .dataframe thead th {\n",
              "        text-align: right;\n",
              "    }\n",
              "</style>\n",
              "<table border=\"1\" class=\"dataframe\">\n",
              "  <thead>\n",
              "    <tr style=\"text-align: right;\">\n",
              "      <th></th>\n",
              "      <th>INSTITUCION</th>\n",
              "    </tr>\n",
              "  </thead>\n",
              "  <tbody>\n",
              "    <tr>\n",
              "      <th>HOSPITAL ITALIANO DE BUENOS AIRES</th>\n",
              "      <td>100</td>\n",
              "    </tr>\n",
              "    <tr>\n",
              "      <th>HOSPITAL FRANCISCO SANTOJANNI</th>\n",
              "      <td>57</td>\n",
              "    </tr>\n",
              "    <tr>\n",
              "      <th>HOSPITAL GENERAL DE AGUDOS DR. JUAN A FERNANDEZ</th>\n",
              "      <td>53</td>\n",
              "    </tr>\n",
              "    <tr>\n",
              "      <th>HOSPITAL GENERAL DE AGUDOS DR. COSME ARGERICH</th>\n",
              "      <td>42</td>\n",
              "    </tr>\n",
              "    <tr>\n",
              "      <th>HOSPITAL BRITANICO DE BUENOS AIRES</th>\n",
              "      <td>41</td>\n",
              "    </tr>\n",
              "    <tr>\n",
              "      <th>...</th>\n",
              "      <td>...</td>\n",
              "    </tr>\n",
              "    <tr>\n",
              "      <th>INSTITUTO CARDIOVASCULAR DE BUENOS AIRES</th>\n",
              "      <td>1</td>\n",
              "    </tr>\n",
              "    <tr>\n",
              "      <th>INSTITUTO DE INVESTIGACIONES MEDICAS ALFREDO LANARI</th>\n",
              "      <td>1</td>\n",
              "    </tr>\n",
              "    <tr>\n",
              "      <th>CLIMEDICA</th>\n",
              "      <td>1</td>\n",
              "    </tr>\n",
              "    <tr>\n",
              "      <th>HOSPITAL GENERAL DE AGUDOS DR. ABEL ZUBIZARRETA</th>\n",
              "      <td>1</td>\n",
              "    </tr>\n",
              "    <tr>\n",
              "      <th>FUNDACION HOSPITALARIA</th>\n",
              "      <td>1</td>\n",
              "    </tr>\n",
              "  </tbody>\n",
              "</table>\n",
              "<p>75 rows × 1 columns</p>\n",
              "</div>"
            ],
            "text/plain": [
              "                                                    INSTITUCION\n",
              "HOSPITAL ITALIANO DE BUENOS AIRES                           100\n",
              "HOSPITAL FRANCISCO SANTOJANNI                                57\n",
              "HOSPITAL GENERAL DE AGUDOS DR. JUAN A FERNANDEZ              53\n",
              "HOSPITAL GENERAL DE AGUDOS DR. COSME ARGERICH                42\n",
              "HOSPITAL BRITANICO DE BUENOS AIRES                           41\n",
              "...                                                         ...\n",
              "INSTITUTO CARDIOVASCULAR DE BUENOS AIRES                      1\n",
              "INSTITUTO DE INVESTIGACIONES MEDICAS ALFREDO LA...            1\n",
              "CLIMEDICA                                                     1\n",
              "HOSPITAL GENERAL DE AGUDOS DR. ABEL ZUBIZARRETA               1\n",
              "FUNDACION HOSPITALARIA                                        1\n",
              "\n",
              "[75 rows x 1 columns]"
            ]
          },
          "execution_count": 17,
          "metadata": {},
          "output_type": "execute_result"
        }
      ],
      "source": [
        "frec_df = pd.DataFrame(frec)\n",
        "frec_df"
      ]
    },
    {
      "cell_type": "code",
      "execution_count": null,
      "id": "87a0a208",
      "metadata": {
        "id": "87a0a208",
        "outputId": "7c8ec20a-8374-4baa-89b4-ce3bb55f9cd8"
      },
      "outputs": [
        {
          "data": {
            "text/html": [
              "<div>\n",
              "<style scoped>\n",
              "    .dataframe tbody tr th:only-of-type {\n",
              "        vertical-align: middle;\n",
              "    }\n",
              "\n",
              "    .dataframe tbody tr th {\n",
              "        vertical-align: top;\n",
              "    }\n",
              "\n",
              "    .dataframe thead th {\n",
              "        text-align: right;\n",
              "    }\n",
              "</style>\n",
              "<table border=\"1\" class=\"dataframe\">\n",
              "  <thead>\n",
              "    <tr style=\"text-align: right;\">\n",
              "      <th></th>\n",
              "      <th>frec_abs</th>\n",
              "    </tr>\n",
              "  </thead>\n",
              "  <tbody>\n",
              "    <tr>\n",
              "      <th>HOSPITAL ITALIANO DE BUENOS AIRES</th>\n",
              "      <td>100</td>\n",
              "    </tr>\n",
              "    <tr>\n",
              "      <th>HOSPITAL FRANCISCO SANTOJANNI</th>\n",
              "      <td>57</td>\n",
              "    </tr>\n",
              "    <tr>\n",
              "      <th>HOSPITAL GENERAL DE AGUDOS DR. JUAN A FERNANDEZ</th>\n",
              "      <td>53</td>\n",
              "    </tr>\n",
              "    <tr>\n",
              "      <th>HOSPITAL GENERAL DE AGUDOS DR. COSME ARGERICH</th>\n",
              "      <td>42</td>\n",
              "    </tr>\n",
              "    <tr>\n",
              "      <th>HOSPITAL BRITANICO DE BUENOS AIRES</th>\n",
              "      <td>41</td>\n",
              "    </tr>\n",
              "    <tr>\n",
              "      <th>...</th>\n",
              "      <td>...</td>\n",
              "    </tr>\n",
              "    <tr>\n",
              "      <th>INSTITUTO CARDIOVASCULAR DE BUENOS AIRES</th>\n",
              "      <td>1</td>\n",
              "    </tr>\n",
              "    <tr>\n",
              "      <th>INSTITUTO DE INVESTIGACIONES MEDICAS ALFREDO LANARI</th>\n",
              "      <td>1</td>\n",
              "    </tr>\n",
              "    <tr>\n",
              "      <th>CLIMEDICA</th>\n",
              "      <td>1</td>\n",
              "    </tr>\n",
              "    <tr>\n",
              "      <th>HOSPITAL GENERAL DE AGUDOS DR. ABEL ZUBIZARRETA</th>\n",
              "      <td>1</td>\n",
              "    </tr>\n",
              "    <tr>\n",
              "      <th>FUNDACION HOSPITALARIA</th>\n",
              "      <td>1</td>\n",
              "    </tr>\n",
              "  </tbody>\n",
              "</table>\n",
              "<p>75 rows × 1 columns</p>\n",
              "</div>"
            ],
            "text/plain": [
              "                                                    frec_abs\n",
              "HOSPITAL ITALIANO DE BUENOS AIRES                        100\n",
              "HOSPITAL FRANCISCO SANTOJANNI                             57\n",
              "HOSPITAL GENERAL DE AGUDOS DR. JUAN A FERNANDEZ           53\n",
              "HOSPITAL GENERAL DE AGUDOS DR. COSME ARGERICH             42\n",
              "HOSPITAL BRITANICO DE BUENOS AIRES                        41\n",
              "...                                                      ...\n",
              "INSTITUTO CARDIOVASCULAR DE BUENOS AIRES                   1\n",
              "INSTITUTO DE INVESTIGACIONES MEDICAS ALFREDO LA...         1\n",
              "CLIMEDICA                                                  1\n",
              "HOSPITAL GENERAL DE AGUDOS DR. ABEL ZUBIZARRETA            1\n",
              "FUNDACION HOSPITALARIA                                     1\n",
              "\n",
              "[75 rows x 1 columns]"
            ]
          },
          "execution_count": 19,
          "metadata": {},
          "output_type": "execute_result"
        }
      ],
      "source": [
        "frec_df.rename(columns={'INSTITUCION':'frec_abs'}, inplace = True)\n",
        "frec_df"
      ]
    },
    {
      "cell_type": "code",
      "execution_count": null,
      "id": "252e2110",
      "metadata": {
        "id": "252e2110",
        "outputId": "8902605b-0df3-4cde-88e0-ae649cd4684a"
      },
      "outputs": [
        {
          "data": {
            "text/html": [
              "<div>\n",
              "<style scoped>\n",
              "    .dataframe tbody tr th:only-of-type {\n",
              "        vertical-align: middle;\n",
              "    }\n",
              "\n",
              "    .dataframe tbody tr th {\n",
              "        vertical-align: top;\n",
              "    }\n",
              "\n",
              "    .dataframe thead th {\n",
              "        text-align: right;\n",
              "    }\n",
              "</style>\n",
              "<table border=\"1\" class=\"dataframe\">\n",
              "  <thead>\n",
              "    <tr style=\"text-align: right;\">\n",
              "      <th></th>\n",
              "      <th>frec_abs</th>\n",
              "      <th>frec_abs_acum</th>\n",
              "    </tr>\n",
              "  </thead>\n",
              "  <tbody>\n",
              "    <tr>\n",
              "      <th>HOSPITAL ITALIANO DE BUENOS AIRES</th>\n",
              "      <td>100</td>\n",
              "      <td>100</td>\n",
              "    </tr>\n",
              "    <tr>\n",
              "      <th>HOSPITAL FRANCISCO SANTOJANNI</th>\n",
              "      <td>57</td>\n",
              "      <td>157</td>\n",
              "    </tr>\n",
              "    <tr>\n",
              "      <th>HOSPITAL GENERAL DE AGUDOS DR. JUAN A FERNANDEZ</th>\n",
              "      <td>53</td>\n",
              "      <td>210</td>\n",
              "    </tr>\n",
              "    <tr>\n",
              "      <th>HOSPITAL GENERAL DE AGUDOS DR. COSME ARGERICH</th>\n",
              "      <td>42</td>\n",
              "      <td>252</td>\n",
              "    </tr>\n",
              "    <tr>\n",
              "      <th>HOSPITAL BRITANICO DE BUENOS AIRES</th>\n",
              "      <td>41</td>\n",
              "      <td>293</td>\n",
              "    </tr>\n",
              "    <tr>\n",
              "      <th>...</th>\n",
              "      <td>...</td>\n",
              "      <td>...</td>\n",
              "    </tr>\n",
              "    <tr>\n",
              "      <th>INSTITUTO CARDIOVASCULAR DE BUENOS AIRES</th>\n",
              "      <td>1</td>\n",
              "      <td>787</td>\n",
              "    </tr>\n",
              "    <tr>\n",
              "      <th>INSTITUTO DE INVESTIGACIONES MEDICAS ALFREDO LANARI</th>\n",
              "      <td>1</td>\n",
              "      <td>788</td>\n",
              "    </tr>\n",
              "    <tr>\n",
              "      <th>CLIMEDICA</th>\n",
              "      <td>1</td>\n",
              "      <td>789</td>\n",
              "    </tr>\n",
              "    <tr>\n",
              "      <th>HOSPITAL GENERAL DE AGUDOS DR. ABEL ZUBIZARRETA</th>\n",
              "      <td>1</td>\n",
              "      <td>790</td>\n",
              "    </tr>\n",
              "    <tr>\n",
              "      <th>FUNDACION HOSPITALARIA</th>\n",
              "      <td>1</td>\n",
              "      <td>791</td>\n",
              "    </tr>\n",
              "  </tbody>\n",
              "</table>\n",
              "<p>75 rows × 2 columns</p>\n",
              "</div>"
            ],
            "text/plain": [
              "                                                    frec_abs  frec_abs_acum\n",
              "HOSPITAL ITALIANO DE BUENOS AIRES                        100            100\n",
              "HOSPITAL FRANCISCO SANTOJANNI                             57            157\n",
              "HOSPITAL GENERAL DE AGUDOS DR. JUAN A FERNANDEZ           53            210\n",
              "HOSPITAL GENERAL DE AGUDOS DR. COSME ARGERICH             42            252\n",
              "HOSPITAL BRITANICO DE BUENOS AIRES                        41            293\n",
              "...                                                      ...            ...\n",
              "INSTITUTO CARDIOVASCULAR DE BUENOS AIRES                   1            787\n",
              "INSTITUTO DE INVESTIGACIONES MEDICAS ALFREDO LA...         1            788\n",
              "CLIMEDICA                                                  1            789\n",
              "HOSPITAL GENERAL DE AGUDOS DR. ABEL ZUBIZARRETA            1            790\n",
              "FUNDACION HOSPITALARIA                                     1            791\n",
              "\n",
              "[75 rows x 2 columns]"
            ]
          },
          "execution_count": 21,
          "metadata": {},
          "output_type": "execute_result"
        }
      ],
      "source": [
        "frec_abs_val = frec_df['frec_abs'].values\n",
        "\n",
        "acum = []\n",
        "\n",
        "valor_acum = 0\n",
        "\n",
        "for i in frec_abs_val:\n",
        "    valor_acum = valor_acum + i\n",
        "    acum.append(valor_acum)\n",
        "    \n",
        "frec_df['frec_abs_acum'] = acum\n",
        "frec_df"
      ]
    },
    {
      "cell_type": "code",
      "execution_count": null,
      "id": "6714e975",
      "metadata": {
        "id": "6714e975",
        "outputId": "53314a6a-954e-40e3-fb41-f04aba6cff7c"
      },
      "outputs": [
        {
          "data": {
            "text/html": [
              "<div>\n",
              "<style scoped>\n",
              "    .dataframe tbody tr th:only-of-type {\n",
              "        vertical-align: middle;\n",
              "    }\n",
              "\n",
              "    .dataframe tbody tr th {\n",
              "        vertical-align: top;\n",
              "    }\n",
              "\n",
              "    .dataframe thead th {\n",
              "        text-align: right;\n",
              "    }\n",
              "</style>\n",
              "<table border=\"1\" class=\"dataframe\">\n",
              "  <thead>\n",
              "    <tr style=\"text-align: right;\">\n",
              "      <th></th>\n",
              "      <th>frec_abs</th>\n",
              "      <th>frec_abs_acum</th>\n",
              "      <th>frec_rel_%</th>\n",
              "    </tr>\n",
              "  </thead>\n",
              "  <tbody>\n",
              "    <tr>\n",
              "      <th>HOSPITAL ITALIANO DE BUENOS AIRES</th>\n",
              "      <td>100</td>\n",
              "      <td>100</td>\n",
              "      <td>12.642225</td>\n",
              "    </tr>\n",
              "    <tr>\n",
              "      <th>HOSPITAL FRANCISCO SANTOJANNI</th>\n",
              "      <td>57</td>\n",
              "      <td>157</td>\n",
              "      <td>7.206068</td>\n",
              "    </tr>\n",
              "    <tr>\n",
              "      <th>HOSPITAL GENERAL DE AGUDOS DR. JUAN A FERNANDEZ</th>\n",
              "      <td>53</td>\n",
              "      <td>210</td>\n",
              "      <td>6.700379</td>\n",
              "    </tr>\n",
              "    <tr>\n",
              "      <th>HOSPITAL GENERAL DE AGUDOS DR. COSME ARGERICH</th>\n",
              "      <td>42</td>\n",
              "      <td>252</td>\n",
              "      <td>5.309735</td>\n",
              "    </tr>\n",
              "    <tr>\n",
              "      <th>HOSPITAL BRITANICO DE BUENOS AIRES</th>\n",
              "      <td>41</td>\n",
              "      <td>293</td>\n",
              "      <td>5.183312</td>\n",
              "    </tr>\n",
              "    <tr>\n",
              "      <th>...</th>\n",
              "      <td>...</td>\n",
              "      <td>...</td>\n",
              "      <td>...</td>\n",
              "    </tr>\n",
              "    <tr>\n",
              "      <th>INSTITUTO CARDIOVASCULAR DE BUENOS AIRES</th>\n",
              "      <td>1</td>\n",
              "      <td>787</td>\n",
              "      <td>0.126422</td>\n",
              "    </tr>\n",
              "    <tr>\n",
              "      <th>INSTITUTO DE INVESTIGACIONES MEDICAS ALFREDO LANARI</th>\n",
              "      <td>1</td>\n",
              "      <td>788</td>\n",
              "      <td>0.126422</td>\n",
              "    </tr>\n",
              "    <tr>\n",
              "      <th>CLIMEDICA</th>\n",
              "      <td>1</td>\n",
              "      <td>789</td>\n",
              "      <td>0.126422</td>\n",
              "    </tr>\n",
              "    <tr>\n",
              "      <th>HOSPITAL GENERAL DE AGUDOS DR. ABEL ZUBIZARRETA</th>\n",
              "      <td>1</td>\n",
              "      <td>790</td>\n",
              "      <td>0.126422</td>\n",
              "    </tr>\n",
              "    <tr>\n",
              "      <th>FUNDACION HOSPITALARIA</th>\n",
              "      <td>1</td>\n",
              "      <td>791</td>\n",
              "      <td>0.126422</td>\n",
              "    </tr>\n",
              "  </tbody>\n",
              "</table>\n",
              "<p>75 rows × 3 columns</p>\n",
              "</div>"
            ],
            "text/plain": [
              "                                                    frec_abs  frec_abs_acum  \\\n",
              "HOSPITAL ITALIANO DE BUENOS AIRES                        100            100   \n",
              "HOSPITAL FRANCISCO SANTOJANNI                             57            157   \n",
              "HOSPITAL GENERAL DE AGUDOS DR. JUAN A FERNANDEZ           53            210   \n",
              "HOSPITAL GENERAL DE AGUDOS DR. COSME ARGERICH             42            252   \n",
              "HOSPITAL BRITANICO DE BUENOS AIRES                        41            293   \n",
              "...                                                      ...            ...   \n",
              "INSTITUTO CARDIOVASCULAR DE BUENOS AIRES                   1            787   \n",
              "INSTITUTO DE INVESTIGACIONES MEDICAS ALFREDO LA...         1            788   \n",
              "CLIMEDICA                                                  1            789   \n",
              "HOSPITAL GENERAL DE AGUDOS DR. ABEL ZUBIZARRETA            1            790   \n",
              "FUNDACION HOSPITALARIA                                     1            791   \n",
              "\n",
              "                                                    frec_rel_%  \n",
              "HOSPITAL ITALIANO DE BUENOS AIRES                    12.642225  \n",
              "HOSPITAL FRANCISCO SANTOJANNI                         7.206068  \n",
              "HOSPITAL GENERAL DE AGUDOS DR. JUAN A FERNANDEZ       6.700379  \n",
              "HOSPITAL GENERAL DE AGUDOS DR. COSME ARGERICH         5.309735  \n",
              "HOSPITAL BRITANICO DE BUENOS AIRES                    5.183312  \n",
              "...                                                        ...  \n",
              "INSTITUTO CARDIOVASCULAR DE BUENOS AIRES              0.126422  \n",
              "INSTITUTO DE INVESTIGACIONES MEDICAS ALFREDO LA...    0.126422  \n",
              "CLIMEDICA                                             0.126422  \n",
              "HOSPITAL GENERAL DE AGUDOS DR. ABEL ZUBIZARRETA       0.126422  \n",
              "FUNDACION HOSPITALARIA                                0.126422  \n",
              "\n",
              "[75 rows x 3 columns]"
            ]
          },
          "execution_count": 22,
          "metadata": {},
          "output_type": "execute_result"
        }
      ],
      "source": [
        "frec_df['frec_rel_%'] = 100 * frec_df['frec_abs']/len(df.INSTITUCION)\n",
        "frec_df"
      ]
    },
    {
      "cell_type": "code",
      "execution_count": null,
      "id": "a6a3ec3c",
      "metadata": {
        "id": "a6a3ec3c",
        "outputId": "fe92f783-ba4d-4c94-920e-25c073bd1cc1"
      },
      "outputs": [
        {
          "data": {
            "text/html": [
              "<div>\n",
              "<style scoped>\n",
              "    .dataframe tbody tr th:only-of-type {\n",
              "        vertical-align: middle;\n",
              "    }\n",
              "\n",
              "    .dataframe tbody tr th {\n",
              "        vertical-align: top;\n",
              "    }\n",
              "\n",
              "    .dataframe thead th {\n",
              "        text-align: right;\n",
              "    }\n",
              "</style>\n",
              "<table border=\"1\" class=\"dataframe\">\n",
              "  <thead>\n",
              "    <tr style=\"text-align: right;\">\n",
              "      <th></th>\n",
              "      <th>frec_abs</th>\n",
              "      <th>frec_abs_acum</th>\n",
              "      <th>frec_rel_%</th>\n",
              "      <th>frec_rel_%_acum</th>\n",
              "    </tr>\n",
              "  </thead>\n",
              "  <tbody>\n",
              "    <tr>\n",
              "      <th>HOSPITAL ITALIANO DE BUENOS AIRES</th>\n",
              "      <td>100</td>\n",
              "      <td>100</td>\n",
              "      <td>12.642225</td>\n",
              "      <td>12.642225</td>\n",
              "    </tr>\n",
              "    <tr>\n",
              "      <th>HOSPITAL FRANCISCO SANTOJANNI</th>\n",
              "      <td>57</td>\n",
              "      <td>157</td>\n",
              "      <td>7.206068</td>\n",
              "      <td>19.848293</td>\n",
              "    </tr>\n",
              "    <tr>\n",
              "      <th>HOSPITAL GENERAL DE AGUDOS DR. JUAN A FERNANDEZ</th>\n",
              "      <td>53</td>\n",
              "      <td>210</td>\n",
              "      <td>6.700379</td>\n",
              "      <td>26.548673</td>\n",
              "    </tr>\n",
              "    <tr>\n",
              "      <th>HOSPITAL GENERAL DE AGUDOS DR. COSME ARGERICH</th>\n",
              "      <td>42</td>\n",
              "      <td>252</td>\n",
              "      <td>5.309735</td>\n",
              "      <td>31.858407</td>\n",
              "    </tr>\n",
              "    <tr>\n",
              "      <th>HOSPITAL BRITANICO DE BUENOS AIRES</th>\n",
              "      <td>41</td>\n",
              "      <td>293</td>\n",
              "      <td>5.183312</td>\n",
              "      <td>37.041719</td>\n",
              "    </tr>\n",
              "    <tr>\n",
              "      <th>...</th>\n",
              "      <td>...</td>\n",
              "      <td>...</td>\n",
              "      <td>...</td>\n",
              "      <td>...</td>\n",
              "    </tr>\n",
              "    <tr>\n",
              "      <th>INSTITUTO CARDIOVASCULAR DE BUENOS AIRES</th>\n",
              "      <td>1</td>\n",
              "      <td>787</td>\n",
              "      <td>0.126422</td>\n",
              "      <td>99.494311</td>\n",
              "    </tr>\n",
              "    <tr>\n",
              "      <th>INSTITUTO DE INVESTIGACIONES MEDICAS ALFREDO LANARI</th>\n",
              "      <td>1</td>\n",
              "      <td>788</td>\n",
              "      <td>0.126422</td>\n",
              "      <td>99.620733</td>\n",
              "    </tr>\n",
              "    <tr>\n",
              "      <th>CLIMEDICA</th>\n",
              "      <td>1</td>\n",
              "      <td>789</td>\n",
              "      <td>0.126422</td>\n",
              "      <td>99.747155</td>\n",
              "    </tr>\n",
              "    <tr>\n",
              "      <th>HOSPITAL GENERAL DE AGUDOS DR. ABEL ZUBIZARRETA</th>\n",
              "      <td>1</td>\n",
              "      <td>790</td>\n",
              "      <td>0.126422</td>\n",
              "      <td>99.873578</td>\n",
              "    </tr>\n",
              "    <tr>\n",
              "      <th>FUNDACION HOSPITALARIA</th>\n",
              "      <td>1</td>\n",
              "      <td>791</td>\n",
              "      <td>0.126422</td>\n",
              "      <td>100.000000</td>\n",
              "    </tr>\n",
              "  </tbody>\n",
              "</table>\n",
              "<p>75 rows × 4 columns</p>\n",
              "</div>"
            ],
            "text/plain": [
              "                                                    frec_abs  frec_abs_acum  \\\n",
              "HOSPITAL ITALIANO DE BUENOS AIRES                        100            100   \n",
              "HOSPITAL FRANCISCO SANTOJANNI                             57            157   \n",
              "HOSPITAL GENERAL DE AGUDOS DR. JUAN A FERNANDEZ           53            210   \n",
              "HOSPITAL GENERAL DE AGUDOS DR. COSME ARGERICH             42            252   \n",
              "HOSPITAL BRITANICO DE BUENOS AIRES                        41            293   \n",
              "...                                                      ...            ...   \n",
              "INSTITUTO CARDIOVASCULAR DE BUENOS AIRES                   1            787   \n",
              "INSTITUTO DE INVESTIGACIONES MEDICAS ALFREDO LA...         1            788   \n",
              "CLIMEDICA                                                  1            789   \n",
              "HOSPITAL GENERAL DE AGUDOS DR. ABEL ZUBIZARRETA            1            790   \n",
              "FUNDACION HOSPITALARIA                                     1            791   \n",
              "\n",
              "                                                    frec_rel_%  \\\n",
              "HOSPITAL ITALIANO DE BUENOS AIRES                    12.642225   \n",
              "HOSPITAL FRANCISCO SANTOJANNI                         7.206068   \n",
              "HOSPITAL GENERAL DE AGUDOS DR. JUAN A FERNANDEZ       6.700379   \n",
              "HOSPITAL GENERAL DE AGUDOS DR. COSME ARGERICH         5.309735   \n",
              "HOSPITAL BRITANICO DE BUENOS AIRES                    5.183312   \n",
              "...                                                        ...   \n",
              "INSTITUTO CARDIOVASCULAR DE BUENOS AIRES              0.126422   \n",
              "INSTITUTO DE INVESTIGACIONES MEDICAS ALFREDO LA...    0.126422   \n",
              "CLIMEDICA                                             0.126422   \n",
              "HOSPITAL GENERAL DE AGUDOS DR. ABEL ZUBIZARRETA       0.126422   \n",
              "FUNDACION HOSPITALARIA                                0.126422   \n",
              "\n",
              "                                                    frec_rel_%_acum  \n",
              "HOSPITAL ITALIANO DE BUENOS AIRES                         12.642225  \n",
              "HOSPITAL FRANCISCO SANTOJANNI                             19.848293  \n",
              "HOSPITAL GENERAL DE AGUDOS DR. JUAN A FERNANDEZ           26.548673  \n",
              "HOSPITAL GENERAL DE AGUDOS DR. COSME ARGERICH             31.858407  \n",
              "HOSPITAL BRITANICO DE BUENOS AIRES                        37.041719  \n",
              "...                                                             ...  \n",
              "INSTITUTO CARDIOVASCULAR DE BUENOS AIRES                  99.494311  \n",
              "INSTITUTO DE INVESTIGACIONES MEDICAS ALFREDO LA...        99.620733  \n",
              "CLIMEDICA                                                 99.747155  \n",
              "HOSPITAL GENERAL DE AGUDOS DR. ABEL ZUBIZARRETA           99.873578  \n",
              "FUNDACION HOSPITALARIA                                   100.000000  \n",
              "\n",
              "[75 rows x 4 columns]"
            ]
          },
          "execution_count": 23,
          "metadata": {},
          "output_type": "execute_result"
        }
      ],
      "source": [
        "frec_rel_val = frec_df['frec_rel_%'].values\n",
        "\n",
        "acum = []\n",
        "\n",
        "valor_acum = 0\n",
        "\n",
        "for i in frec_rel_val:\n",
        "    valor_acum = valor_acum + i\n",
        "    acum.append(valor_acum)\n",
        "    \n",
        "frec_df['frec_rel_%_acum'] = acum\n",
        "frec_df"
      ]
    },
    {
      "cell_type": "code",
      "execution_count": null,
      "id": "3bbd9b9e",
      "metadata": {
        "id": "3bbd9b9e"
      },
      "outputs": [],
      "source": [
        ""
      ]
    }
  ],
  "metadata": {
    "kernelspec": {
      "display_name": "Python 3 (ipykernel)",
      "language": "python",
      "name": "python3"
    },
    "language_info": {
      "codemirror_mode": {
        "name": "ipython",
        "version": 3
      },
      "file_extension": ".py",
      "mimetype": "text/x-python",
      "name": "python",
      "nbconvert_exporter": "python",
      "pygments_lexer": "ipython3",
      "version": "3.9.7"
    },
    "colab": {
      "name": "TransplantesRobles.ipynb",
      "provenance": [],
      "include_colab_link": true
    }
  },
  "nbformat": 4,
  "nbformat_minor": 5
}